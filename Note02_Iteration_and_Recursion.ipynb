{
 "cells": [
  {
   "cell_type": "markdown",
   "metadata": {},
   "source": [
    "# Week 3\n",
    "## Lecture 1 - Iteration\n",
    "### 1-1 Return"
   ]
  },
  {
   "cell_type": "code",
   "execution_count": 1,
   "metadata": {},
   "outputs": [
    {
     "name": "stdout",
     "output_type": "stream",
     "text": [
      "7\n",
      "6\n",
      "5\n"
     ]
    }
   ],
   "source": [
    "def end(n, d):\n",
    "    \"\"\"Print the final digits of N in reverse order until D is found.\"\"\"\n",
    "    while n > 0:\n",
    "        n, last = n // 10, n % 10\n",
    "        print(last)\n",
    "        if last == d:\n",
    "            return None\n",
    "        \n",
    "end(34567, 5)"
   ]
  },
  {
   "cell_type": "code",
   "execution_count": 2,
   "metadata": {},
   "outputs": [
    {
     "data": {
      "text/plain": [
       "11"
      ]
     },
     "execution_count": 2,
     "metadata": {},
     "output_type": "execute_result"
    }
   ],
   "source": [
    "def search(f):\n",
    "    x = 0\n",
    "    while True:\n",
    "        if f(x):\n",
    "            return x\n",
    "        x += 1\n",
    "        \n",
    "def is_three(x):\n",
    "    return x == 3\n",
    "\n",
    "def square(x):\n",
    "    return x*x\n",
    "\n",
    "def positive(x):\n",
    "    return max(0, square(x)-100)\n",
    "\n",
    "search(positive)"
   ]
  },
  {
   "cell_type": "code",
   "execution_count": 3,
   "metadata": {},
   "outputs": [
    {
     "data": {
      "text/plain": [
       "11"
      ]
     },
     "execution_count": 3,
     "metadata": {},
     "output_type": "execute_result"
    }
   ],
   "source": [
    "def inverse(f):\n",
    "    \"\"\"Return g(y) s.t. g(f(x)) -> x\"\"\"\n",
    "    return lambda y: search(lambda x: f(x) == y)\n",
    "\n",
    "sqrt = inverse(square)\n",
    "sqrt(121)"
   ]
  },
  {
   "cell_type": "markdown",
   "metadata": {},
   "source": [
    "### 1-2 Self-Reference"
   ]
  },
  {
   "cell_type": "code",
   "execution_count": 4,
   "metadata": {},
   "outputs": [
    {
     "name": "stdout",
     "output_type": "stream",
     "text": [
      "1\n",
      "3\n",
      "5\n"
     ]
    },
    {
     "data": {
      "text/plain": [
       "<function __main__.print_all(x)>"
      ]
     },
     "execution_count": 4,
     "metadata": {},
     "output_type": "execute_result"
    }
   ],
   "source": [
    "def print_all(x):\n",
    "    print(x)\n",
    "    return print_all\n",
    "\n",
    "print_all(1)(3)(5)"
   ]
  },
  {
   "cell_type": "code",
   "execution_count": 5,
   "metadata": {},
   "outputs": [
    {
     "name": "stdout",
     "output_type": "stream",
     "text": [
      "1\n",
      "4\n",
      "9\n"
     ]
    },
    {
     "data": {
      "text/plain": [
       "<function __main__.print_sums.<locals>.next_sum(y)>"
      ]
     },
     "execution_count": 5,
     "metadata": {},
     "output_type": "execute_result"
    }
   ],
   "source": [
    "def print_sums(x):\n",
    "    print(x)\n",
    "    def next_sum(y):\n",
    "        return print_sums(x+y)\n",
    "    return next_sum\n",
    "\n",
    "print_sums(1)(3)(5)"
   ]
  },
  {
   "cell_type": "markdown",
   "metadata": {},
   "source": [
    "### 1-3 Function Examples: Sounds\n",
    "I skipped this part... oops"
   ]
  },
  {
   "cell_type": "markdown",
   "metadata": {},
   "source": [
    "## Lecture 2 - Recursion"
   ]
  },
  {
   "cell_type": "markdown",
   "metadata": {},
   "source": [
    "### 2-1 Recursive functions\n",
    "- Definition: The body of the function calls itself\n",
    "- Example: sum_digits; credit card; etc"
   ]
  },
  {
   "cell_type": "code",
   "execution_count": 6,
   "metadata": {},
   "outputs": [
    {
     "data": {
      "text/plain": [
       "11"
      ]
     },
     "execution_count": 6,
     "metadata": {},
     "output_type": "execute_result"
    }
   ],
   "source": [
    "def split(n):\n",
    "    \"\"\"Split positive N into all but its last digit and its last digit.\"\"\"\n",
    "    return n //10, n % 10\n",
    "\n",
    "def sum_digits(n):\n",
    "    \"\"\"Return the sum of the digits of positive integer N.\"\"\"\n",
    "    if n < 10:\n",
    "        return n\n",
    "    else:\n",
    "        all_but_last, last = split(n)\n",
    "        return sum_digits(all_but_last) + last\n",
    "    \n",
    "sum_digits(2018)"
   ]
  },
  {
   "cell_type": "markdown",
   "metadata": {},
   "source": [
    "### 2-2 Recursion in Environment Diagrams"
   ]
  },
  {
   "cell_type": "code",
   "execution_count": 7,
   "metadata": {},
   "outputs": [
    {
     "data": {
      "text/plain": [
       "120"
      ]
     },
     "execution_count": 7,
     "metadata": {},
     "output_type": "execute_result"
    }
   ],
   "source": [
    "def fact(n):\n",
    "    \"\"\"Compute the factorial of an integer N.\"\"\"\n",
    "    if n == 0:\n",
    "        return 1\n",
    "    else:\n",
    "        return n * fact(n-1)\n",
    "    \n",
    "fact(5)"
   ]
  },
  {
   "cell_type": "markdown",
   "metadata": {},
   "source": [
    "### 2-3 Mutual Recursion"
   ]
  },
  {
   "cell_type": "code",
   "execution_count": 8,
   "metadata": {},
   "outputs": [
    {
     "data": {
      "text/plain": [
       "20"
      ]
     },
     "execution_count": 8,
     "metadata": {},
     "output_type": "execute_result"
    }
   ],
   "source": [
    "\"\"\"Luhn Algorithm - Based on sum_digits\"\"\"\n",
    "\n",
    "def luhn_sum(n):\n",
    "    if n < 10:\n",
    "        return n\n",
    "    else:\n",
    "        all_but_last, last = split(n)\n",
    "        return luhn_sum_double(all_but_last) + last\n",
    "    \n",
    "def luhn_sum_double(n):\n",
    "    all_but_last, last = split(n)\n",
    "    luhn_digit = sum_digits(2 * last)\n",
    "    if n < 10:\n",
    "        return luhn_digit\n",
    "    else:\n",
    "        return luhn_sum(all_but_last) + luhn_digit\n",
    "    \n",
    "luhn_sum(5105105105105100)"
   ]
  },
  {
   "cell_type": "markdown",
   "metadata": {},
   "source": [
    "### 2-4 Recursion and Iteration\n",
    "\n",
    "Converting iteration to recursion:\n",
    "\n",
    "- **Can be triky:** Iteration is a special case of recursion.\n",
    "- **Idea:** Figure out what state must be maintained by the iterative function."
   ]
  },
  {
   "cell_type": "code",
   "execution_count": 9,
   "metadata": {},
   "outputs": [
    {
     "data": {
      "text/plain": [
       "11"
      ]
     },
     "execution_count": 9,
     "metadata": {},
     "output_type": "execute_result"
    }
   ],
   "source": [
    "\"\"\"Still considering sum_digits\"\"\"\n",
    "\n",
    "def sum_digits_iter(n):\n",
    "    digit_sum = 0\n",
    "    while n > 0:\n",
    "        n, last = split(n)\n",
    "        digit_sum = digit_sum + last\n",
    "    return digit_sum\n",
    "\n",
    "sum_digits_iter(2018)"
   ]
  },
  {
   "cell_type": "markdown",
   "metadata": {},
   "source": [
    "Converting iteration to recursion:\n",
    "\n",
    "- **More formulaic:** special case\n",
    "\n",
    "- **Idea:** The *state* of an iteration can be passed as an argument.\n",
    "\n",
    "Updates via assignment become arguments to a recursive call."
   ]
  },
  {
   "cell_type": "code",
   "execution_count": 10,
   "metadata": {},
   "outputs": [
    {
     "data": {
      "text/plain": [
       "11"
      ]
     },
     "execution_count": 10,
     "metadata": {},
     "output_type": "execute_result"
    }
   ],
   "source": [
    "\"\"\"sum_digits again & again\"\"\"\n",
    "\n",
    "def sum_digits_rec(n, digit_sum):\n",
    "    if n == 0:\n",
    "        return digit_sum\n",
    "    else:\n",
    "        n, last = split(n)\n",
    "        return sum_digits_rec(n, digit_sum + last)\n",
    "    \n",
    "sum_digits_rec(2018, 0)"
   ]
  },
  {
   "cell_type": "markdown",
   "metadata": {},
   "source": [
    "## Lecture 3 - Tree Recursion"
   ]
  },
  {
   "cell_type": "markdown",
   "metadata": {},
   "source": [
    "### 3-1 Order of Recursive Calls\n",
    "\n",
    "**Tips:** When learning to write recursive functions, put the base case first."
   ]
  },
  {
   "cell_type": "code",
   "execution_count": 11,
   "metadata": {},
   "outputs": [
    {
     "name": "stdout",
     "output_type": "stream",
     "text": [
      "12345\n",
      "1234\n",
      "123\n",
      "12\n",
      "1\n",
      "12\n",
      "123\n",
      "1234\n",
      "12345\n"
     ]
    }
   ],
   "source": [
    "\"\"\"Cascade Function\"\"\"\n",
    "\n",
    "def cascade(n):\n",
    "    if n < 10:\n",
    "        print(n)\n",
    "    else:\n",
    "        print(n)\n",
    "        cascade(n // 10)\n",
    "        print(n)\n",
    "        \n",
    "cascade(12345)"
   ]
  },
  {
   "cell_type": "code",
   "execution_count": 12,
   "metadata": {},
   "outputs": [
    {
     "name": "stdout",
     "output_type": "stream",
     "text": [
      "Here is another version:\n",
      "12345\n",
      "1234\n",
      "123\n",
      "12\n",
      "1\n",
      "12\n",
      "123\n",
      "1234\n",
      "12345\n"
     ]
    }
   ],
   "source": [
    "\"\"\"Another definition of cascade\"\"\"\n",
    "\n",
    "print(\"Here is another version:\")\n",
    "\n",
    "def cascade_new(n):\n",
    "    print(n)\n",
    "    if n >= 10:\n",
    "        cascade_new(n // 10)\n",
    "        print(n)\n",
    "        \n",
    "cascade_new(12345)"
   ]
  },
  {
   "cell_type": "code",
   "execution_count": 13,
   "metadata": {},
   "outputs": [
    {
     "name": "stdout",
     "output_type": "stream",
     "text": [
      "1\n",
      "12\n",
      "123\n",
      "1234\n",
      "12345\n",
      "1234\n",
      "123\n",
      "12\n",
      "1\n"
     ]
    }
   ],
   "source": [
    "\"\"\"Inversive casncade:\"\"\"\n",
    "\n",
    "def inverse_cascade(n):\n",
    "    grow(n)\n",
    "    print(n)\n",
    "    shrink(n)\n",
    "    \n",
    "def f_then_g(f, g, n):\n",
    "    if n:\n",
    "        f(n)\n",
    "        g(n)\n",
    "        \n",
    "grow = lambda n: f_then_g(grow, print, n//10)\n",
    "shrink = lambda n: f_then_g(print, shrink, n//10)\n",
    "\n",
    "# def grow(n):\n",
    "#     n = n//10\n",
    "#     if n:\n",
    "#         grow(n)\n",
    "#         print(n)\n",
    "# def shrink(n):\n",
    "#     n = n//10\n",
    "#     if n:\n",
    "#         shrink(n)\n",
    "#         print(n)\n",
    "    \n",
    "inverse_cascade(12345)"
   ]
  },
  {
   "cell_type": "markdown",
   "metadata": {},
   "source": [
    "### 3-2 Tree recursion\n",
    "\n",
    "Tree-shaped processes arise whenever executing the body of a recursive function makes more than one call to that function."
   ]
  },
  {
   "cell_type": "code",
   "execution_count": 14,
   "metadata": {},
   "outputs": [
    {
     "data": {
      "text/plain": [
       "5"
      ]
     },
     "execution_count": 14,
     "metadata": {},
     "output_type": "execute_result"
    }
   ],
   "source": [
    "\"\"\"Fibonacci numbers\"\"\"\n",
    "\n",
    "# from ucb import trace\n",
    "\n",
    "# @trace\n",
    "def fib(n):\n",
    "    if n == 0:\n",
    "        return 0\n",
    "    if n == 1:\n",
    "        return 1\n",
    "    else:\n",
    "        return fib(n-1) + fib(n-2)\n",
    "    \n",
    "fib(5)"
   ]
  },
  {
   "cell_type": "markdown",
   "metadata": {},
   "source": [
    "This process is highly repetitive; fib is called on the same argument multiple times."
   ]
  },
  {
   "cell_type": "code",
   "execution_count": 15,
   "metadata": {},
   "outputs": [],
   "source": [
    "\"\"\"Counting partitions\"\"\"\n",
    "\n",
    "def count_partitions(n,m):\n",
    "    \"\"\"\n",
    "    The number of partitions of a positive interger n, using parts up to size m.\n",
    "    It is the number of ways in which n can be expressed as the sum of positive interger parts up to m in increasing order.\n",
    "    \"\"\"\n",
    "    if n == 0:\n",
    "        return 1\n",
    "    elif n < 0:\n",
    "        return 0\n",
    "    elif m == 0:\n",
    "        return 0\n",
    "    else:\n",
    "        with_m = count_partitions(n-m, m)\n",
    "        without_m = count_partitions(n, m-1)\n",
    "        return with_m + without_m"
   ]
  },
  {
   "cell_type": "code",
   "execution_count": 16,
   "metadata": {},
   "outputs": [
    {
     "data": {
      "text/plain": [
       "9"
      ]
     },
     "execution_count": 16,
     "metadata": {},
     "output_type": "execute_result"
    }
   ],
   "source": [
    "count_partitions(6,4)"
   ]
  },
  {
   "cell_type": "code",
   "execution_count": null,
   "metadata": {},
   "outputs": [],
   "source": []
  }
 ],
 "metadata": {
  "kernelspec": {
   "display_name": "Python 3",
   "language": "python",
   "name": "python3"
  },
  "language_info": {
   "codemirror_mode": {
    "name": "ipython",
    "version": 3
   },
   "file_extension": ".py",
   "mimetype": "text/x-python",
   "name": "python",
   "nbconvert_exporter": "python",
   "pygments_lexer": "ipython3",
   "version": "3.7.0"
  }
 },
 "nbformat": 4,
 "nbformat_minor": 2
}
