{
 "cells": [
  {
   "cell_type": "markdown",
   "metadata": {},
   "source": [
    "## CS 61A Note 1\n",
    "2018/12/22\n",
    "\n",
    "Week 1 - Week 2"
   ]
  },
  {
   "cell_type": "code",
   "execution_count": 1,
   "metadata": {},
   "outputs": [
    {
     "data": {
      "text/plain": [
       "3.141592653589793"
      ]
     },
     "execution_count": 1,
     "metadata": {},
     "output_type": "execute_result"
    }
   ],
   "source": [
    "from math import pi\n",
    "pi"
   ]
  },
  {
   "cell_type": "code",
   "execution_count": 2,
   "metadata": {},
   "outputs": [
    {
     "name": "stdout",
     "output_type": "stream",
     "text": [
      "area = 314.1592653589793\n",
      "circ = 62.83185307179586\n"
     ]
    }
   ],
   "source": [
    "radius = 10\n",
    "area, circ = pi * radius * radius, 2 * pi * radius\n",
    "print(\"area =\", area)\n",
    "print(\"circ =\", circ)"
   ]
  },
  {
   "cell_type": "code",
   "execution_count": 3,
   "metadata": {},
   "outputs": [
    {
     "data": {
      "text/plain": [
       "121"
      ]
     },
     "execution_count": 3,
     "metadata": {},
     "output_type": "execute_result"
    }
   ],
   "source": [
    "from operator import add, mul\n",
    "def square(x):\n",
    "    return mul(x, x)\n",
    "square(11)"
   ]
  },
  {
   "cell_type": "code",
   "execution_count": 4,
   "metadata": {},
   "outputs": [
    {
     "name": "stdout",
     "output_type": "stream",
     "text": [
      "area = 314.1592653589793\n",
      "area = 1256.6370614359173\n"
     ]
    }
   ],
   "source": [
    "def area():\n",
    "    return pi * radius * radius\n",
    "print(\"area =\", area())\n",
    "radius = 20\n",
    "print(\"area =\", area())"
   ]
  },
  {
   "cell_type": "code",
   "execution_count": 5,
   "metadata": {},
   "outputs": [
    {
     "data": {
      "text/plain": [
       "4"
      ]
     },
     "execution_count": 5,
     "metadata": {},
     "output_type": "execute_result"
    }
   ],
   "source": [
    "## Environment Diagrams\n",
    "def square(square):    # global frame: square=a function\n",
    "    return mul(square, square)\n",
    "square(-2)    # local frame: square=-2"
   ]
  },
  {
   "cell_type": "code",
   "execution_count": 6,
   "metadata": {},
   "outputs": [],
   "source": [
    "None"
   ]
  },
  {
   "cell_type": "code",
   "execution_count": 7,
   "metadata": {},
   "outputs": [
    {
     "name": "stdout",
     "output_type": "stream",
     "text": [
      "None\n"
     ]
    }
   ],
   "source": [
    "print(None)"
   ]
  },
  {
   "cell_type": "code",
   "execution_count": 8,
   "metadata": {},
   "outputs": [
    {
     "name": "stdout",
     "output_type": "stream",
     "text": [
      "1\n",
      "2\n",
      "None None\n"
     ]
    }
   ],
   "source": [
    "print(print(1), print(2))"
   ]
  },
  {
   "cell_type": "code",
   "execution_count": 9,
   "metadata": {},
   "outputs": [
    {
     "name": "stdout",
     "output_type": "stream",
     "text": [
      "q =  201\n",
      "r =  3\n"
     ]
    }
   ],
   "source": [
    "def divide_exact(n, d):\n",
    "    \"\"\" Return the quotient and remainder of dividing n by d.\n",
    "    >>> q, r = divide_exact(2013, 10)\n",
    "    >>> q\n",
    "    201\n",
    "    >>> r\n",
    "    3\n",
    "    \"\"\"\n",
    "    return n//d, n%d\n",
    "\n",
    "q,r = divide_exact(2013, 10)\n",
    "print(\"q = \", q)\n",
    "print(\"r = \", r)"
   ]
  },
  {
   "cell_type": "code",
   "execution_count": 10,
   "metadata": {},
   "outputs": [
    {
     "name": "stdout",
     "output_type": "stream",
     "text": [
      "absolute_value(-2) = 2\n",
      "absolute_value(0) = 0\n",
      "absolute_value(2) = 2\n"
     ]
    }
   ],
   "source": [
    "def absolute_value(x):\n",
    "    \"\"\"Return the absolute value of x.\"\"\"\n",
    "    if x < 0:\n",
    "        return -x\n",
    "    elif x == 0:\n",
    "        return 0\n",
    "    else:\n",
    "        return x\n",
    "\n",
    "print(\"absolute_value(-2) =\", absolute_value(-2))\n",
    "print(\"absolute_value(0) =\", absolute_value(0))\n",
    "print(\"absolute_value(2) =\", absolute_value(2))"
   ]
  },
  {
   "cell_type": "code",
   "execution_count": 11,
   "metadata": {},
   "outputs": [
    {
     "name": "stdout",
     "output_type": "stream",
     "text": [
      "i = 3 \n",
      "total = 6\n"
     ]
    }
   ],
   "source": [
    "i, total = 0, 0\n",
    "while i < 3:\n",
    "    i = i + 1\n",
    "    total = total + i\n",
    "\n",
    "print(\"i =\", i, \"\\ntotal =\", total)"
   ]
  },
  {
   "cell_type": "code",
   "execution_count": 12,
   "metadata": {},
   "outputs": [
    {
     "name": "stdout",
     "output_type": "stream",
     "text": [
      "fib(8) = 21\n"
     ]
    }
   ],
   "source": [
    "\"\"\"Fibonacci Sequence\"\"\"\n",
    "def fib(n):\n",
    "    \"\"\"Computh the nth Fibonacci number, for n >= 1.\"\"\"\n",
    "    pred, curr = 0, 1\n",
    "    k = 1   # curr is the kth Fibonacci number\n",
    "    while k < n:\n",
    "        pred, curr = curr, pred + curr\n",
    "        k = k + 1\n",
    "    return curr\n",
    "\n",
    "print(\"fib(8) =\", fib(8))"
   ]
  },
  {
   "cell_type": "code",
   "execution_count": 13,
   "metadata": {},
   "outputs": [
    {
     "name": "stdout",
     "output_type": "stream",
     "text": [
      "area_circle(1) = 3.141592653589793\n",
      "area_square(1) = 1\n",
      "area_hexagon(1) = 2.598076211353316\n"
     ]
    }
   ],
   "source": [
    "\"\"\"Generalization - Do NOT repeat\"\"\"\n",
    "from math import pi, sqrt\n",
    "\n",
    "def area(r, area_constant):\n",
    "    assert r > 0, 'Radius must be larger than 0!'\n",
    "    return r * r * area_constant\n",
    "\n",
    "def area_circle(r):\n",
    "    return area(r, pi)\n",
    "\n",
    "def area_square(r):\n",
    "    return area(r, 1)\n",
    "\n",
    "def area_hexagon(r):\n",
    "    return area(r, sqrt(3) * 3 / 2)\n",
    "\n",
    "print('area_circle(1) =', area_circle(1))\n",
    "print('area_square(1) =', area_square(1))\n",
    "print('area_hexagon(1) =', area_hexagon(1))"
   ]
  },
  {
   "cell_type": "code",
   "execution_count": 14,
   "metadata": {},
   "outputs": [
    {
     "name": "stdout",
     "output_type": "stream",
     "text": [
      "sum_natural(5) = 15\n",
      "sum_cube(5) = 225\n",
      "pi = 3.141592153589902 (approx.)\n"
     ]
    }
   ],
   "source": [
    "\"\"\"Higher Order Functions - Functions as Arguments\"\"\"\n",
    "def summation(k, term):\n",
    "    total, n = 0, 1\n",
    "    while n <= k:\n",
    "        total, n = total + term(n), n + 1  # term is a function\n",
    "    return total\n",
    "\n",
    "def identity(x):\n",
    "    return x\n",
    "\n",
    "def cube(x):\n",
    "    return pow(x, 3)\n",
    "\n",
    "from operator import mul\n",
    "def pi_term(x):\n",
    "    return 8 / mul(4*x-3, 4*x-1)\n",
    "\n",
    "def sum_natural(k):\n",
    "    return summation(k, identity)\n",
    "\n",
    "def sum_cube(k):\n",
    "    return summation(k, cube)\n",
    "\n",
    "print('sum_natural(5) =', sum_natural(5))\n",
    "print('sum_cube(5) =', sum_cube(5))\n",
    "print('pi =', summation(1000000, pi_term), '(approx.)')"
   ]
  },
  {
   "cell_type": "code",
   "execution_count": 15,
   "metadata": {},
   "outputs": [
    {
     "name": "stdout",
     "output_type": "stream",
     "text": [
      "add_three(4) = 7\n",
      "make_adder(1)(2) = 3\n"
     ]
    }
   ],
   "source": [
    "\"\"\"Higher Order Functions - Functions as Return Values\"\"\"\n",
    "def make_adder(n):\n",
    "    \"\"\"Return a function that takes one argument k and returns k + n.\"\"\"\n",
    "    def adder(k):\n",
    "        return k + n\n",
    "    return adder\n",
    "\n",
    "add_three = make_adder(3)\n",
    "add_three(4)\n",
    "print('add_three(4) =', add_three(4))\n",
    "print('make_adder(1)(2) =', make_adder(1)(2))"
   ]
  },
  {
   "cell_type": "code",
   "execution_count": 16,
   "metadata": {},
   "outputs": [
    {
     "name": "stdout",
     "output_type": "stream",
     "text": [
      "square(10) = 100\n"
     ]
    }
   ],
   "source": [
    "\"\"\"Lambda Expressions\"\"\"\n",
    "square = lambda x: x * x  # lambda expression cannot cotain statement at all!\n",
    "print('square(10) =', square(10))"
   ]
  },
  {
   "cell_type": "code",
   "execution_count": 17,
   "metadata": {},
   "outputs": [
    {
     "name": "stdout",
     "output_type": "stream",
     "text": [
      "apply_twice(square, 3) = 81\n",
      "repeat(g, 5) = 2\n"
     ]
    }
   ],
   "source": [
    "\"\"\"Higher Order Functions - Environment\"\"\"\n",
    "def apply_twice(f, x):\n",
    "    return f(f(x))\n",
    "def square(x):\n",
    "    return x*x\n",
    "print('apply_twice(square, 3) =', apply_twice(square, 3))\n",
    "\n",
    "def repeat(f, x):\n",
    "    while f(x) != x:\n",
    "        x = f(x)\n",
    "    return x\n",
    "def g(y):\n",
    "    return (y + 5) // 3\n",
    "print('repeat(g, 5) =', repeat(g, 5))"
   ]
  }
 ],
 "metadata": {
  "kernelspec": {
   "display_name": "Python 3",
   "language": "python",
   "name": "python3"
  },
  "language_info": {
   "codemirror_mode": {
    "name": "ipython",
    "version": 3
   },
   "file_extension": ".py",
   "mimetype": "text/x-python",
   "name": "python",
   "nbconvert_exporter": "python",
   "pygments_lexer": "ipython3",
   "version": "3.7.0"
  }
 },
 "nbformat": 4,
 "nbformat_minor": 2
}
