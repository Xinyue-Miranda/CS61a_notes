{
 "cells": [
  {
   "cell_type": "markdown",
   "metadata": {},
   "source": [
    "# Lecture 10 - Data Abstraction\n",
    "## Example about rational data"
   ]
  },
  {
   "cell_type": "code",
   "execution_count": 1,
   "metadata": {},
   "outputs": [],
   "source": [
    "from math import gcd"
   ]
  },
  {
   "cell_type": "code",
   "execution_count": 2,
   "metadata": {},
   "outputs": [],
   "source": [
    "def rational(n, d):\n",
    "    \"\"\"Rational number of N/D\n",
    "    N, D are integers.\n",
    "    \"\"\"\n",
    "    g = gcd(n, d)    # Reducing to the lowest terms\n",
    "    return [n//g, d//g]"
   ]
  },
  {
   "cell_type": "code",
   "execution_count": 3,
   "metadata": {},
   "outputs": [],
   "source": [
    "def numer(x):\n",
    "    \"\"\"Return the numerator of a ratinal number X.\"\"\"\n",
    "    return x[0]\n",
    "\n",
    "def denom(x):\n",
    "    \"\"\"Return the denomenator of a ratinal number X.\"\"\"\n",
    "    return x[1]"
   ]
  },
  {
   "cell_type": "code",
   "execution_count": 4,
   "metadata": {},
   "outputs": [],
   "source": [
    "def add_rational(x, y):\n",
    "    \"\"\"Add ratinaol numbers X and Y\"\"\"\n",
    "    nx, ny = numer(x), numer(y)\n",
    "    dx, dy = denom(x), denom(y)\n",
    "    return rational(nx*dy+ny*dx, dx*dy)"
   ]
  },
  {
   "cell_type": "code",
   "execution_count": 5,
   "metadata": {},
   "outputs": [],
   "source": [
    "def mul_rational(x, y):\n",
    "    \"\"\"Multiply ratinaol numbers X and Y\"\"\"\n",
    "    nx, ny = numer(x), numer(y)\n",
    "    dx, dy = denom(x), denom(y)\n",
    "    return rational(nx*ny, dx*dy)"
   ]
  },
  {
   "cell_type": "code",
   "execution_count": 6,
   "metadata": {},
   "outputs": [],
   "source": [
    "def equal_rational(x, y):\n",
    "    \"\"\"Return whether ratinaol numbers X and Y are equal\"\"\"\n",
    "    nx, ny = numer(x), numer(y)\n",
    "    dx, dy = denom(x), denom(y)\n",
    "    return nx*dy == ny*dx"
   ]
  },
  {
   "cell_type": "code",
   "execution_count": 7,
   "metadata": {},
   "outputs": [],
   "source": [
    "def print_rational(x):\n",
    "    \"\"\"Print ratinaol number XY\"\"\"\n",
    "    print(numer(x), '/', denom(x))"
   ]
  },
  {
   "cell_type": "code",
   "execution_count": 8,
   "metadata": {},
   "outputs": [
    {
     "name": "stdout",
     "output_type": "stream",
     "text": [
      "3 / 32\n"
     ]
    }
   ],
   "source": [
    "x,y = rational(1,4), rational(3,8)\n",
    "print_rational(mul_rational(x, y))"
   ]
  },
  {
   "cell_type": "markdown",
   "metadata": {},
   "source": [
    "## Abstraction Barriers\n",
    "Example of violating barriers:"
   ]
  },
  {
   "cell_type": "code",
   "execution_count": 9,
   "metadata": {},
   "outputs": [
    {
     "data": {
      "text/plain": [
       "[3, 4]"
      ]
     },
     "execution_count": 9,
     "metadata": {},
     "output_type": "execute_result"
    }
   ],
   "source": [
    "add_rational([1,2], [1,4])  # Should use `ratinal(n,d)` instead of [n,d]"
   ]
  },
  {
   "cell_type": "code",
   "execution_count": 10,
   "metadata": {},
   "outputs": [],
   "source": [
    "def devide_ratinal(x, y):\n",
    "    return [x[0]*y[1], x[1]*y[0]] # Should use ratinal(n,d) and denom(x),numer(x) instead of [n,d] and x[0],x[1]"
   ]
  },
  {
   "cell_type": "markdown",
   "metadata": {},
   "source": [
    "<font color='red'> **Codes violating abstraction barriers should burn!!!** </font>"
   ]
  },
  {
   "cell_type": "markdown",
   "metadata": {},
   "source": [
    "## Data Representation\n",
    "Below is another representation of constructors and selectors."
   ]
  },
  {
   "cell_type": "code",
   "execution_count": 11,
   "metadata": {},
   "outputs": [],
   "source": [
    "def rational(n, d):\n",
    "    \"\"\"Rational number of N/D\n",
    "    N, D are integers.\n",
    "    Here we nolonger return a list but a lower-order function!\n",
    "    \"\"\"\n",
    "    def select(name):\n",
    "        if name == 'n':\n",
    "            return n\n",
    "        elif name == 'd':\n",
    "            return d\n",
    "    return select"
   ]
  },
  {
   "cell_type": "code",
   "execution_count": 12,
   "metadata": {},
   "outputs": [],
   "source": [
    "def numer(x):\n",
    "    \"\"\"Return the numerator of a ratinal number X\n",
    "    Note X here is a function!\n",
    "    \"\"\"\n",
    "    return x('n')\n",
    "\n",
    "def denom(x):\n",
    "    \"\"\"Return the numerator of a ratinal number X\n",
    "    Note here X is a function!\n",
    "    \"\"\"\n",
    "    return x('d')"
   ]
  },
  {
   "cell_type": "code",
   "execution_count": 13,
   "metadata": {},
   "outputs": [
    {
     "name": "stdout",
     "output_type": "stream",
     "text": [
      "3 / 32\n"
     ]
    }
   ],
   "source": [
    "x,y = rational(1,4), rational(3,8)\n",
    "print_rational(mul_rational(x, y))"
   ]
  },
  {
   "cell_type": "markdown",
   "metadata": {},
   "source": [
    "**The result does NOT change!!!**\n",
    "But if we violate the abstraction barrier, we would have error."
   ]
  },
  {
   "cell_type": "code",
   "execution_count": 14,
   "metadata": {},
   "outputs": [
    {
     "name": "stdout",
     "output_type": "stream",
     "text": [
      "6 / 8\n",
      "'list' object is not callable\n"
     ]
    }
   ],
   "source": [
    "try:\n",
    "    print_rational(add_rational(rational(1,4), rational(1,2)))    # The inputs should always be rational(n,d)\n",
    "    print_rational(add_rational([1,4], [1,2]))   # Raise TypeError \n",
    "except TypeError as e:\n",
    "    print(e)"
   ]
  }
 ],
 "metadata": {
  "kernelspec": {
   "display_name": "Python 3",
   "language": "python",
   "name": "python3"
  },
  "language_info": {
   "codemirror_mode": {
    "name": "ipython",
    "version": 3
   },
   "file_extension": ".py",
   "mimetype": "text/x-python",
   "name": "python",
   "nbconvert_exporter": "python",
   "pygments_lexer": "ipython3",
   "version": "3.7.0"
  }
 },
 "nbformat": 4,
 "nbformat_minor": 2
}
