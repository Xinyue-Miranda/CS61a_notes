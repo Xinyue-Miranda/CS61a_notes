{
 "cells": [
  {
   "cell_type": "markdown",
   "metadata": {},
   "source": [
    "# Week7 Lec16 - Inheritance\n",
    "[Lecture Videos](https://www.youtube.com/watch?v=WBBcuIlM2iE&list=PL6BsET-8jgYUQ_XExDUYYQPd00ErJ6ELL&vq=hd1080)<br>\n",
    "[Lecture Slides](http://inst.eecs.berkeley.edu/~cs61a/sp18/assets/slides/16-Inheritance_1pp.pdf)"
   ]
  },
  {
   "cell_type": "code",
   "execution_count": 1,
   "metadata": {},
   "outputs": [],
   "source": [
    "class Account:\n",
    "    interest = 0.02\n",
    "    \n",
    "    def __init__(self, account_holder):\n",
    "        self.holder = account_holder\n",
    "        self.balance = 0\n",
    "    \n",
    "    def deposit(self, amount):\n",
    "        self.balance = self.balance + amount\n",
    "        return self.balance\n",
    "    \n",
    "    def withdraw(self, amount):\n",
    "        if amount > self.balance:\n",
    "            return 'Insufficient Balance!'\n",
    "        self.balance = self.balance - amount\n",
    "        return self.balance"
   ]
  },
  {
   "cell_type": "markdown",
   "metadata": {},
   "source": [
    "## Attribute Assignment Statement"
   ]
  },
  {
   "cell_type": "code",
   "execution_count": 2,
   "metadata": {},
   "outputs": [],
   "source": [
    "jim_account = Account('Jim')\n",
    "tom_account = Account('Tom')"
   ]
  },
  {
   "cell_type": "code",
   "execution_count": 3,
   "metadata": {},
   "outputs": [
    {
     "data": {
      "text/plain": [
       "(0.02, 0.02)"
      ]
     },
     "execution_count": 3,
     "metadata": {},
     "output_type": "execute_result"
    }
   ],
   "source": [
    "jim_account.interest, tom_account.interest"
   ]
  },
  {
   "cell_type": "markdown",
   "metadata": {},
   "source": [
    "**Class Attribute Assignment**"
   ]
  },
  {
   "cell_type": "code",
   "execution_count": 4,
   "metadata": {},
   "outputs": [],
   "source": [
    "Account.interest = 0.04"
   ]
  },
  {
   "cell_type": "code",
   "execution_count": 5,
   "metadata": {},
   "outputs": [
    {
     "data": {
      "text/plain": [
       "(0.04, 0.04)"
      ]
     },
     "execution_count": 5,
     "metadata": {},
     "output_type": "execute_result"
    }
   ],
   "source": [
    "jim_account.interest, tom_account.interest"
   ]
  },
  {
   "cell_type": "markdown",
   "metadata": {},
   "source": [
    "**Instance Attribute Assignment**"
   ]
  },
  {
   "cell_type": "code",
   "execution_count": 6,
   "metadata": {},
   "outputs": [],
   "source": [
    "jim_account.interest = 0.08"
   ]
  },
  {
   "cell_type": "code",
   "execution_count": 7,
   "metadata": {},
   "outputs": [
    {
     "data": {
      "text/plain": [
       "(0.08, 0.04)"
      ]
     },
     "execution_count": 7,
     "metadata": {},
     "output_type": "execute_result"
    }
   ],
   "source": [
    "jim_account.interest, tom_account.interest"
   ]
  },
  {
   "cell_type": "code",
   "execution_count": 8,
   "metadata": {},
   "outputs": [],
   "source": [
    "Account.interest = 0.05"
   ]
  },
  {
   "cell_type": "code",
   "execution_count": 9,
   "metadata": {},
   "outputs": [
    {
     "data": {
      "text/plain": [
       "(0.08, 0.05)"
      ]
     },
     "execution_count": 9,
     "metadata": {},
     "output_type": "execute_result"
    }
   ],
   "source": [
    "jim_account.interest, tom_account.interest"
   ]
  },
  {
   "cell_type": "markdown",
   "metadata": {},
   "source": [
    "## Inheritance\n",
    "<img src='figs/inheritance.png' width='700'>"
   ]
  },
  {
   "cell_type": "code",
   "execution_count": 10,
   "metadata": {},
   "outputs": [],
   "source": [
    "class CheckingAccount(Account):\n",
    "    \"\"\"A bank account with lower interest, and charges for withdrawals.\n",
    "    \"\"\"\n",
    "    interest = 0.01\n",
    "    withdraw_fee = 1\n",
    "    def withdraw(self, amount):\n",
    "        return Account.withdraw(self, amount + self.withdraw_fee)"
   ]
  },
  {
   "cell_type": "code",
   "execution_count": 11,
   "metadata": {},
   "outputs": [],
   "source": [
    "a = Account('John')\n",
    "b = CheckingAccount('Jack')"
   ]
  },
  {
   "cell_type": "code",
   "execution_count": 12,
   "metadata": {},
   "outputs": [
    {
     "data": {
      "text/plain": [
       "(0.05, 0.01)"
      ]
     },
     "execution_count": 12,
     "metadata": {},
     "output_type": "execute_result"
    }
   ],
   "source": [
    "a.interest, b.interest"
   ]
  },
  {
   "cell_type": "code",
   "execution_count": 13,
   "metadata": {},
   "outputs": [
    {
     "data": {
      "text/plain": [
       "(0, 0)"
      ]
     },
     "execution_count": 13,
     "metadata": {},
     "output_type": "execute_result"
    }
   ],
   "source": [
    "a.balance, b.balance"
   ]
  },
  {
   "cell_type": "code",
   "execution_count": 14,
   "metadata": {},
   "outputs": [
    {
     "data": {
      "text/plain": [
       "(100, 100)"
      ]
     },
     "execution_count": 14,
     "metadata": {},
     "output_type": "execute_result"
    }
   ],
   "source": [
    "a.deposit(100), b.deposit(100)"
   ]
  },
  {
   "cell_type": "code",
   "execution_count": 15,
   "metadata": {},
   "outputs": [
    {
     "data": {
      "text/plain": [
       "(90, 89)"
      ]
     },
     "execution_count": 15,
     "metadata": {},
     "output_type": "execute_result"
    }
   ],
   "source": [
    "a.withdraw(10), b.withdraw(10)"
   ]
  },
  {
   "cell_type": "markdown",
   "metadata": {},
   "source": [
    "## Multiple Inheritance"
   ]
  },
  {
   "cell_type": "code",
   "execution_count": 16,
   "metadata": {},
   "outputs": [],
   "source": [
    "class SavingAccount(Account):\n",
    "    \"\"\"Charges 2 dollars when making deposit.\n",
    "    \"\"\"\n",
    "    deposit_fee = 2\n",
    "    def deposit(self, amount):\n",
    "        return Account.deposit(self, amount-self.deposit_fee)"
   ]
  },
  {
   "cell_type": "code",
   "execution_count": 17,
   "metadata": {},
   "outputs": [],
   "source": [
    "class CleverBank(SavingAccount, CheckingAccount):\n",
    "    def __init__(self, account_holder):\n",
    "        self.holder = account_holder\n",
    "        self.balance = 1    # A free dollar!"
   ]
  },
  {
   "cell_type": "code",
   "execution_count": 18,
   "metadata": {},
   "outputs": [],
   "source": [
    "such_a_deal = CleverBank('John')"
   ]
  },
  {
   "cell_type": "code",
   "execution_count": 19,
   "metadata": {},
   "outputs": [
    {
     "data": {
      "text/plain": [
       "1"
      ]
     },
     "execution_count": 19,
     "metadata": {},
     "output_type": "execute_result"
    }
   ],
   "source": [
    "such_a_deal.balance"
   ]
  },
  {
   "cell_type": "code",
   "execution_count": 20,
   "metadata": {},
   "outputs": [
    {
     "data": {
      "text/plain": [
       "19"
      ]
     },
     "execution_count": 20,
     "metadata": {},
     "output_type": "execute_result"
    }
   ],
   "source": [
    "such_a_deal.deposit(20)"
   ]
  },
  {
   "cell_type": "code",
   "execution_count": 21,
   "metadata": {},
   "outputs": [
    {
     "data": {
      "text/plain": [
       "13"
      ]
     },
     "execution_count": 21,
     "metadata": {},
     "output_type": "execute_result"
    }
   ],
   "source": [
    "such_a_deal.withdraw(5)"
   ]
  },
  {
   "cell_type": "markdown",
   "metadata": {},
   "source": [
    "## Object-Oriented Design\n",
    "### Rules for object-oriented design\n",
    "- Don't repeat yourself; use exsisting implementations.\n",
    "- Attributes that have been overridden are still accessible via class objects.<br>\n",
    "e.g. `Account.withdraw`\n",
    "- Look up attributes on instances whenever possible. <br>\n",
    "e.g. `self.withdraw_fee`"
   ]
  },
  {
   "cell_type": "markdown",
   "metadata": {},
   "source": [
    "### Inheritance & Composition\n",
    "<img src='figs/inheritance_composition.png' width='600'>"
   ]
  },
  {
   "cell_type": "code",
   "execution_count": 22,
   "metadata": {},
   "outputs": [],
   "source": [
    "class Bank:\n",
    "    \"\"\"A bank *has* accounts.\n",
    "    >>> bank = Bank()\n",
    "    >>> john = bank.open_account('John', 10)\n",
    "    >>> jack = bank.open_account('Jack', 5, CheckingAccount)\n",
    "    >>> john.interest\n",
    "    0.02\n",
    "    >>> jack.interest\n",
    "    0.01\n",
    "    >>> bank.pay_interest()\n",
    "    >>> john.balance\n",
    "    10.2\n",
    "    \"\"\"\n",
    "    def __init__(self):\n",
    "        self.accounts = []\n",
    "    \n",
    "    def open_account(self, holder, amount, kind=Account):\n",
    "        account = kind(holder)\n",
    "        account.deposit(amount)\n",
    "        self.accounts.append(account)\n",
    "        return account\n",
    "\n",
    "    def pay_interest(self):\n",
    "        for a in self.accounts:\n",
    "            a.deposit(a.balance*a.interest)"
   ]
  },
  {
   "cell_type": "markdown",
   "metadata": {},
   "source": [
    "## Attributes Lookup"
   ]
  },
  {
   "cell_type": "code",
   "execution_count": 23,
   "metadata": {},
   "outputs": [],
   "source": [
    "class A:\n",
    "    z = -1\n",
    "    def f(self, x):\n",
    "        return B(x-1)\n",
    "    \n",
    "class B(A):\n",
    "    n = 4\n",
    "    def __init__(self, y):\n",
    "        if y:\n",
    "            self.z = self.f(y)\n",
    "        else:\n",
    "            self.z = C(y+1)\n",
    "            \n",
    "class C(B):\n",
    "    def f(self, x):\n",
    "        return x"
   ]
  },
  {
   "cell_type": "code",
   "execution_count": 24,
   "metadata": {},
   "outputs": [],
   "source": [
    "a = A()\n",
    "b = B(1)\n",
    "b.n = 5"
   ]
  },
  {
   "cell_type": "code",
   "execution_count": 25,
   "metadata": {},
   "outputs": [
    {
     "data": {
      "text/plain": [
       "4"
      ]
     },
     "execution_count": 25,
     "metadata": {},
     "output_type": "execute_result"
    }
   ],
   "source": [
    "C(2).n"
   ]
  },
  {
   "cell_type": "code",
   "execution_count": 26,
   "metadata": {},
   "outputs": [
    {
     "data": {
      "text/plain": [
       "True"
      ]
     },
     "execution_count": 26,
     "metadata": {},
     "output_type": "execute_result"
    }
   ],
   "source": [
    "a.z == C.z"
   ]
  },
  {
   "cell_type": "code",
   "execution_count": 27,
   "metadata": {},
   "outputs": [
    {
     "data": {
      "text/plain": [
       "False"
      ]
     },
     "execution_count": 27,
     "metadata": {},
     "output_type": "execute_result"
    }
   ],
   "source": [
    "a.z == b.z"
   ]
  },
  {
   "cell_type": "code",
   "execution_count": 28,
   "metadata": {},
   "outputs": [
    {
     "data": {
      "text/plain": [
       "<__main__.B at 0x2a816378b00>"
      ]
     },
     "execution_count": 28,
     "metadata": {},
     "output_type": "execute_result"
    }
   ],
   "source": [
    "b.z"
   ]
  },
  {
   "cell_type": "code",
   "execution_count": 29,
   "metadata": {},
   "outputs": [
    {
     "data": {
      "text/plain": [
       "<__main__.C at 0x2a816378be0>"
      ]
     },
     "execution_count": 29,
     "metadata": {},
     "output_type": "execute_result"
    }
   ],
   "source": [
    "b.z.z"
   ]
  },
  {
   "cell_type": "code",
   "execution_count": 30,
   "metadata": {},
   "outputs": [
    {
     "data": {
      "text/plain": [
       "1"
      ]
     },
     "execution_count": 30,
     "metadata": {},
     "output_type": "execute_result"
    }
   ],
   "source": [
    "b.z.z.z"
   ]
  }
 ],
 "metadata": {
  "kernelspec": {
   "display_name": "Python 3",
   "language": "python",
   "name": "python3"
  },
  "language_info": {
   "codemirror_mode": {
    "name": "ipython",
    "version": 3
   },
   "file_extension": ".py",
   "mimetype": "text/x-python",
   "name": "python",
   "nbconvert_exporter": "python",
   "pygments_lexer": "ipython3",
   "version": "3.7.0"
  }
 },
 "nbformat": 4,
 "nbformat_minor": 2
}
