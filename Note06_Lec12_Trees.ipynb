{
 "cells": [
  {
   "cell_type": "markdown",
   "metadata": {},
   "source": [
    "# Lec 12 - Trees\n",
    "\n",
    "For this notebook, images are either cited from CS61A slides lecture12, or screenshots of lecture videos. <br>\n",
    "[Link to lecture slides](http://inst.eecs.berkeley.edu/~cs61a/sp18/assets/slides/12-Trees_1pp.pdf) <br>\n",
    "[Link to lecture video](https://www.youtube.com/watch?v=If99StVLChY&list=PL6BsET-8jgYU_D4zfjxpO_ItfvMimn4Yv&index=1)"
   ]
  },
  {
   "cell_type": "markdown",
   "metadata": {},
   "source": [
    "## Box and Pointer Notation\n",
    "A way to represent lists within our environment diagrams.\n",
    "<img src='box_pointer.png' width='750'>\n",
    "\n",
    "### Closure\n",
    "- **Closure Property** The result of combination can itself be combined using the same method.\n",
    "- Closure is powerful because it permits us to create hierachical structures.\n",
    "- Hierachical structures are made up of parts, which themselves are made up of parts. - Quite powerful!\n",
    "\n",
    "Example - **List**: List can contain list as elements (in addition to anything else)."
   ]
  },
  {
   "cell_type": "markdown",
   "metadata": {},
   "source": [
    "## Slicing"
   ]
  },
  {
   "cell_type": "code",
   "execution_count": 1,
   "metadata": {},
   "outputs": [
    {
     "data": {
      "text/plain": [
       "[1, 3, 5, 7, 9]"
      ]
     },
     "execution_count": 1,
     "metadata": {},
     "output_type": "execute_result"
    }
   ],
   "source": [
    "odds = [1,3,5,7,9]\n",
    "odds"
   ]
  },
  {
   "cell_type": "code",
   "execution_count": 2,
   "metadata": {},
   "outputs": [
    {
     "data": {
      "text/plain": [
       "[3, 5]"
      ]
     },
     "execution_count": 2,
     "metadata": {},
     "output_type": "execute_result"
    }
   ],
   "source": [
    "[odds[i] for i in range(1,3)]"
   ]
  },
  {
   "cell_type": "markdown",
   "metadata": {},
   "source": [
    "Slicing is a more convinient way for doing this. It has the same rule as `range`: doesn't include ending.\n",
    "\n",
    "**Note: Slicing creates new values.**"
   ]
  },
  {
   "cell_type": "code",
   "execution_count": 3,
   "metadata": {},
   "outputs": [
    {
     "data": {
      "text/plain": [
       "[3, 5]"
      ]
     },
     "execution_count": 3,
     "metadata": {},
     "output_type": "execute_result"
    }
   ],
   "source": [
    "odds[1:3]"
   ]
  },
  {
   "cell_type": "code",
   "execution_count": 4,
   "metadata": {},
   "outputs": [
    {
     "data": {
      "text/plain": [
       "([3, 5, 7, 9], [1, 3, 5], [1, 3, 5, 7, 9])"
      ]
     },
     "execution_count": 4,
     "metadata": {},
     "output_type": "execute_result"
    }
   ],
   "source": [
    "odds[1:], odds[:3], odds[:]"
   ]
  },
  {
   "cell_type": "markdown",
   "metadata": {},
   "source": [
    "## Processing Container Values\n",
    "\n",
    "**Sequence Aggregation** <br>\n",
    "Built-in functions take in iterable arguments and aggregate them into a value. <br><br>\n",
    "**Example 1** <br>\n",
    "`sum(iterable[, start])` -> value <br>\n",
    "(Note here the `[]` is not true square brackets -- It's an expression in python documents implying the second argument is optional)"
   ]
  },
  {
   "cell_type": "code",
   "execution_count": 5,
   "metadata": {},
   "outputs": [
    {
     "data": {
      "text/plain": [
       "(25, 35)"
      ]
     },
     "execution_count": 5,
     "metadata": {},
     "output_type": "execute_result"
    }
   ],
   "source": [
    "sum(odds, 0), sum(odds, 10)"
   ]
  },
  {
   "cell_type": "markdown",
   "metadata": {},
   "source": [
    "Why argument `start` is useful"
   ]
  },
  {
   "cell_type": "code",
   "execution_count": 6,
   "metadata": {},
   "outputs": [
    {
     "name": "stdout",
     "output_type": "stream",
     "text": [
      "[2, 3, 4]\n",
      "unsupported operand type(s) for +: 'int' and 'list'\n"
     ]
    }
   ],
   "source": [
    "try:\n",
    "    print(sum([[2,3], [4]], [])) # start = []\n",
    "    print(sum([[2,3], [4]]))     # no start values: start = 0 -- TypeError raised\n",
    "except TypeError as e:\n",
    "    print(e)"
   ]
  },
  {
   "cell_type": "code",
   "execution_count": 7,
   "metadata": {},
   "outputs": [
    {
     "data": {
      "text/plain": [
       "[2, 3, 4]"
      ]
     },
     "execution_count": 7,
     "metadata": {},
     "output_type": "execute_result"
    }
   ],
   "source": [
    "[2,3] + [4]"
   ]
  },
  {
   "cell_type": "code",
   "execution_count": 8,
   "metadata": {},
   "outputs": [
    {
     "name": "stdout",
     "output_type": "stream",
     "text": [
      "can only concatenate list (not \"int\") to list\n"
     ]
    }
   ],
   "source": [
    "try:\n",
    "    [2,3] + 0\n",
    "except TypeError as e:\n",
    "    print(e)"
   ]
  },
  {
   "cell_type": "markdown",
   "metadata": {},
   "source": [
    "**Example 2** <br>\n",
    "`max(iterable[, key=func])` -> value (with a single iterable argument) <br>\n",
    "`max(a,b,c,...[,key=func])` -> value (with two or more arguments)"
   ]
  },
  {
   "cell_type": "code",
   "execution_count": 9,
   "metadata": {},
   "outputs": [
    {
     "data": {
      "text/plain": [
       "(4, 4)"
      ]
     },
     "execution_count": 9,
     "metadata": {},
     "output_type": "execute_result"
    }
   ],
   "source": [
    "max(range(5)), max(0,1,2,3,4)"
   ]
  },
  {
   "cell_type": "code",
   "execution_count": 10,
   "metadata": {},
   "outputs": [
    {
     "data": {
      "text/plain": [
       "3"
      ]
     },
     "execution_count": 10,
     "metadata": {},
     "output_type": "execute_result"
    }
   ],
   "source": [
    "max(range(10), key=lambda x: 7-(x-4)*(x-2))"
   ]
  },
  {
   "cell_type": "code",
   "execution_count": 11,
   "metadata": {},
   "outputs": [
    {
     "data": {
      "text/plain": [
       "8"
      ]
     },
     "execution_count": 11,
     "metadata": {},
     "output_type": "execute_result"
    }
   ],
   "source": [
    "(lambda x: 7-(x-4)*(x-2))(3)"
   ]
  },
  {
   "cell_type": "markdown",
   "metadata": {},
   "source": [
    "Note the `max` returns value of the arguments (`x`=3) not the key function of arguments (`f(x)`=8) ! <br><br>\n",
    "**Example 3** <br>\n",
    "`all(iterable)` -> bool <br>\n",
    "Return `True` if `bool(x)` is `True` for all `x` in the iterable argument.<br>\n",
    "If the iterable argument is empty, returns `True`."
   ]
  },
  {
   "cell_type": "code",
   "execution_count": 12,
   "metadata": {},
   "outputs": [
    {
     "data": {
      "text/plain": [
       "(True, True, False)"
      ]
     },
     "execution_count": 12,
     "metadata": {},
     "output_type": "execute_result"
    }
   ],
   "source": [
    "bool(-1), bool(5), bool(0)"
   ]
  },
  {
   "cell_type": "code",
   "execution_count": 13,
   "metadata": {},
   "outputs": [
    {
     "data": {
      "text/plain": [
       "(True, False)"
      ]
     },
     "execution_count": 13,
     "metadata": {},
     "output_type": "execute_result"
    }
   ],
   "source": [
    "bool('Hello World!'), bool('')"
   ]
  },
  {
   "cell_type": "code",
   "execution_count": 14,
   "metadata": {},
   "outputs": [
    {
     "data": {
      "text/plain": [
       "True"
      ]
     },
     "execution_count": 14,
     "metadata": {},
     "output_type": "execute_result"
    }
   ],
   "source": [
    "all([x < 5 for x in range(5)])"
   ]
  },
  {
   "cell_type": "code",
   "execution_count": 15,
   "metadata": {},
   "outputs": [
    {
     "data": {
      "text/plain": [
       "False"
      ]
     },
     "execution_count": 15,
     "metadata": {},
     "output_type": "execute_result"
    }
   ],
   "source": [
    "all(range(5))"
   ]
  },
  {
   "cell_type": "markdown",
   "metadata": {},
   "source": [
    "## Tree\n",
    "How to describe a tree structure\n",
    "\n",
    "<img src='tree_abstraction.png' width='800'>"
   ]
  },
  {
   "cell_type": "markdown",
   "metadata": {},
   "source": [
    "## Implementing Tree Abstraction"
   ]
  },
  {
   "cell_type": "code",
   "execution_count": 16,
   "metadata": {},
   "outputs": [],
   "source": [
    "def tree(label, branches=[]):\n",
    "    for branch in branches:\n",
    "        assert is_tree(branch), 'branches must be trees!'\n",
    "    return [label] + list(branches)"
   ]
  },
  {
   "cell_type": "code",
   "execution_count": 17,
   "metadata": {},
   "outputs": [],
   "source": [
    "def branches(tree):\n",
    "    return tree[1:]"
   ]
  },
  {
   "cell_type": "code",
   "execution_count": 18,
   "metadata": {},
   "outputs": [],
   "source": [
    "def label(tree):\n",
    "    return tree[0]"
   ]
  },
  {
   "cell_type": "code",
   "execution_count": 19,
   "metadata": {},
   "outputs": [],
   "source": [
    "def is_tree(tree):\n",
    "    if type(tree) != list or len(tree) < 1:\n",
    "        return False\n",
    "    for branch in branches(tree):\n",
    "        if not is_tree(branch):\n",
    "            return False\n",
    "    return True"
   ]
  },
  {
   "cell_type": "code",
   "execution_count": 20,
   "metadata": {},
   "outputs": [],
   "source": [
    "def is_leaf(tree):\n",
    "    return not branches(tree)"
   ]
  },
  {
   "cell_type": "markdown",
   "metadata": {},
   "source": [
    "<img src='implement_tree_abstraction.png' width='300'>"
   ]
  },
  {
   "cell_type": "code",
   "execution_count": 21,
   "metadata": {},
   "outputs": [
    {
     "name": "stdout",
     "output_type": "stream",
     "text": [
      "[3, [5]]\n",
      "branches must be trees!\n"
     ]
    }
   ],
   "source": [
    "try:\n",
    "    print(tree(3, [tree(5)]))\n",
    "    print(tree(3, [5]))\n",
    "except AssertionError as e:\n",
    "    print(e)"
   ]
  },
  {
   "cell_type": "code",
   "execution_count": 22,
   "metadata": {},
   "outputs": [
    {
     "data": {
      "text/plain": [
       "[3, [1], [2, [1], [1]]]"
      ]
     },
     "execution_count": 22,
     "metadata": {},
     "output_type": "execute_result"
    }
   ],
   "source": [
    "tree(3, [tree(1), tree(2, [tree(1), tree(1)])])"
   ]
  },
  {
   "cell_type": "code",
   "execution_count": 23,
   "metadata": {},
   "outputs": [
    {
     "data": {
      "text/plain": [
       "[1, [5, [7]], [6]]"
      ]
     },
     "execution_count": 23,
     "metadata": {},
     "output_type": "execute_result"
    }
   ],
   "source": [
    "t = tree(1, [tree(5, [tree(7)]), tree(6)])\n",
    "t"
   ]
  },
  {
   "cell_type": "code",
   "execution_count": 24,
   "metadata": {},
   "outputs": [
    {
     "data": {
      "text/plain": [
       "1"
      ]
     },
     "execution_count": 24,
     "metadata": {},
     "output_type": "execute_result"
    }
   ],
   "source": [
    "label(t)"
   ]
  },
  {
   "cell_type": "code",
   "execution_count": 25,
   "metadata": {},
   "outputs": [
    {
     "data": {
      "text/plain": [
       "[[5, [7]], [6]]"
      ]
     },
     "execution_count": 25,
     "metadata": {},
     "output_type": "execute_result"
    }
   ],
   "source": [
    "branches(t)"
   ]
  },
  {
   "cell_type": "code",
   "execution_count": 26,
   "metadata": {},
   "outputs": [
    {
     "data": {
      "text/plain": [
       "[5, [7]]"
      ]
     },
     "execution_count": 26,
     "metadata": {},
     "output_type": "execute_result"
    }
   ],
   "source": [
    "branches(t)[0]  ## the index-0 branch (like the left suntree)"
   ]
  },
  {
   "cell_type": "code",
   "execution_count": 27,
   "metadata": {},
   "outputs": [
    {
     "data": {
      "text/plain": [
       "True"
      ]
     },
     "execution_count": 27,
     "metadata": {},
     "output_type": "execute_result"
    }
   ],
   "source": [
    "is_tree(branches(t)[0])"
   ]
  },
  {
   "cell_type": "code",
   "execution_count": 28,
   "metadata": {},
   "outputs": [
    {
     "data": {
      "text/plain": [
       "5"
      ]
     },
     "execution_count": 28,
     "metadata": {},
     "output_type": "execute_result"
    }
   ],
   "source": [
    "label(branches(t)[0])"
   ]
  },
  {
   "cell_type": "markdown",
   "metadata": {},
   "source": [
    "## Tree Processing\n",
    "Functions take in tree or ouput tree are often tree recursions themelves.\n",
    "\n",
    "### Tree Processing uses Recursion\n",
    "- Processing the leaf is often the base case of processing a tree. <br>\n",
    "- The recursive case typically <font color='red'>makes a recursive call on each branch, then aggregates.</font>"
   ]
  },
  {
   "cell_type": "code",
   "execution_count": 29,
   "metadata": {},
   "outputs": [],
   "source": [
    "def count_leaves(t):\n",
    "    \"\"\"Count the leaves of a tree.\"\"\"\n",
    "    if is_leaf(t):\n",
    "        return 1\n",
    "    else:\n",
    "        branch_counts = [count_leaves(b) for b in branches(t)]\n",
    "        return sum(branch_counts)"
   ]
  },
  {
   "cell_type": "code",
   "execution_count": 30,
   "metadata": {},
   "outputs": [],
   "source": [
    "def leaves(tree):\n",
    "    \"\"\"Return a list containg leaf labels of the tree.\"\"\"\n",
    "    if is_leaf(tree):\n",
    "        return [label(tree)] # sum for lists\n",
    "    else:\n",
    "        branch_labels = [leaves(b) for b in branches(tree)]\n",
    "        return sum(branch_labels, [])  # flatten a nested list!"
   ]
  },
  {
   "cell_type": "markdown",
   "metadata": {},
   "source": [
    "### Example - Fibonacci Tree\n",
    "<img src='fib_tree.png' width='600'>"
   ]
  },
  {
   "cell_type": "code",
   "execution_count": 31,
   "metadata": {},
   "outputs": [],
   "source": [
    "def fib_tree(n):\n",
    "    if n <= 1:\n",
    "        return tree(n)\n",
    "    else:\n",
    "        left, right = fib_tree(n-2), fib_tree(n-1)\n",
    "        return tree(label(left)+label(right), [left, right])"
   ]
  },
  {
   "cell_type": "code",
   "execution_count": 32,
   "metadata": {},
   "outputs": [
    {
     "data": {
      "text/plain": [
       "[5, [2, [1], [1, [0], [1]]], [3, [1, [0], [1]], [2, [1], [1, [0], [1]]]]]"
      ]
     },
     "execution_count": 32,
     "metadata": {},
     "output_type": "execute_result"
    }
   ],
   "source": [
    "fib_tree(5)"
   ]
  },
  {
   "cell_type": "code",
   "execution_count": 33,
   "metadata": {},
   "outputs": [
    {
     "data": {
      "text/plain": [
       "8"
      ]
     },
     "execution_count": 33,
     "metadata": {},
     "output_type": "execute_result"
    }
   ],
   "source": [
    "count_leaves(fib_tree(5))"
   ]
  },
  {
   "cell_type": "code",
   "execution_count": 34,
   "metadata": {},
   "outputs": [
    {
     "data": {
      "text/plain": [
       "[1, 0, 1, 0, 1, 1, 0, 1]"
      ]
     },
     "execution_count": 34,
     "metadata": {},
     "output_type": "execute_result"
    }
   ],
   "source": [
    "leaves(fib_tree(5))"
   ]
  },
  {
   "cell_type": "markdown",
   "metadata": {},
   "source": [
    "### Creating Trees\n",
    "A function that **creates a tree from another tree** is typically also **recursive**."
   ]
  },
  {
   "cell_type": "code",
   "execution_count": 35,
   "metadata": {},
   "outputs": [],
   "source": [
    "def increment_leaves(t):\n",
    "    \"\"\"Return a tree like t but with all leaf labels incremented.\"\"\"\n",
    "    if is_leaf(t):\n",
    "        return tree(label(t)+1)\n",
    "    else:\n",
    "        bs = [increment_leaves(b) for b in branches(t)]\n",
    "        return tree(label(t), bs)"
   ]
  },
  {
   "cell_type": "code",
   "execution_count": 36,
   "metadata": {},
   "outputs": [],
   "source": [
    "def increment(t):\n",
    "    \"\"\"Return a tree like t but with all labels incremented.\"\"\"\n",
    "    return tree(label(t), [increment(t) for b in branches(t)])"
   ]
  },
  {
   "cell_type": "markdown",
   "metadata": {},
   "source": [
    "For the second function, We don't need an independent base case for leaves, because when `t` is a leaf, `branches(t)`=`[]`, which is also included in the general case"
   ]
  },
  {
   "cell_type": "markdown",
   "metadata": {},
   "source": [
    "### Printing Trees\n",
    "Another example for tree processing."
   ]
  },
  {
   "cell_type": "code",
   "execution_count": 37,
   "metadata": {},
   "outputs": [],
   "source": [
    "def print_tree(t):\n",
    "    \"\"\"Print a tree (without return values).\"\"\"\n",
    "    print(label(t))\n",
    "    for b in branches(t):\n",
    "        print_tree(b)"
   ]
  },
  {
   "cell_type": "code",
   "execution_count": 38,
   "metadata": {},
   "outputs": [
    {
     "name": "stdout",
     "output_type": "stream",
     "text": [
      "3\n",
      "1\n",
      "0\n",
      "1\n",
      "2\n",
      "1\n",
      "1\n",
      "0\n",
      "1\n"
     ]
    }
   ],
   "source": [
    "print_tree(fib_tree(4))"
   ]
  },
  {
   "cell_type": "code",
   "execution_count": 39,
   "metadata": {},
   "outputs": [
    {
     "data": {
      "text/plain": [
       "[1, [5, [7]], [6]]"
      ]
     },
     "execution_count": 39,
     "metadata": {},
     "output_type": "execute_result"
    }
   ],
   "source": [
    "t"
   ]
  },
  {
   "cell_type": "code",
   "execution_count": 40,
   "metadata": {},
   "outputs": [
    {
     "name": "stdout",
     "output_type": "stream",
     "text": [
      "1\n",
      "5\n",
      "7\n",
      "6\n"
     ]
    }
   ],
   "source": [
    "print_tree(t)"
   ]
  },
  {
   "cell_type": "markdown",
   "metadata": {},
   "source": [
    "We can see all the labels in the tree from `print_tree()`, but we cannot see the structure. Here is a better function using indentation."
   ]
  },
  {
   "cell_type": "code",
   "execution_count": 41,
   "metadata": {},
   "outputs": [],
   "source": [
    "def print_tree(t, indent=0):\n",
    "    print('  '*indent + str(label(t)))\n",
    "    for b in branches(t):\n",
    "        print_tree(b, indent+1)"
   ]
  },
  {
   "cell_type": "code",
   "execution_count": 42,
   "metadata": {},
   "outputs": [
    {
     "name": "stdout",
     "output_type": "stream",
     "text": [
      "3\n",
      "  1\n",
      "    0\n",
      "    1\n",
      "  2\n",
      "    1\n",
      "    1\n",
      "      0\n",
      "      1\n"
     ]
    }
   ],
   "source": [
    "print_tree(fib_tree(4))"
   ]
  },
  {
   "cell_type": "code",
   "execution_count": 43,
   "metadata": {},
   "outputs": [
    {
     "data": {
      "text/plain": [
       "[1, [5, [7]], [6]]"
      ]
     },
     "execution_count": 43,
     "metadata": {},
     "output_type": "execute_result"
    }
   ],
   "source": [
    "t"
   ]
  },
  {
   "cell_type": "code",
   "execution_count": 44,
   "metadata": {},
   "outputs": [
    {
     "name": "stdout",
     "output_type": "stream",
     "text": [
      "1\n",
      "  5\n",
      "    7\n",
      "  6\n"
     ]
    }
   ],
   "source": [
    "print_tree(t)"
   ]
  }
 ],
 "metadata": {
  "kernelspec": {
   "display_name": "Python 3",
   "language": "python",
   "name": "python3"
  },
  "language_info": {
   "codemirror_mode": {
    "name": "ipython",
    "version": 3
   },
   "file_extension": ".py",
   "mimetype": "text/x-python",
   "name": "python",
   "nbconvert_exporter": "python",
   "pygments_lexer": "ipython3",
   "version": "3.7.0"
  }
 },
 "nbformat": 4,
 "nbformat_minor": 2
}
