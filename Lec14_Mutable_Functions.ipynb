{
 "cells": [
  {
   "cell_type": "markdown",
   "metadata": {},
   "source": [
    "# Lec14 Mutable Functions (Week 6-2)\n",
    "\n",
    "[Lecture Slides](http://inst.eecs.berkeley.edu/~cs61a/sp18/assets/slides/14-Mutable_Functions_1pp.pdf) <br>\n",
    "[Lecture Videos](https://www.youtube.com/watch?v=mR8HufhOq0o&list=PL6BsET-8jgYX65Qx8DP2ColF_ldpgScu8&index=1)"
   ]
  },
  {
   "cell_type": "markdown",
   "metadata": {},
   "source": [
    "## Mutable Function\n",
    "\n",
    "A function with behavior varies over time."
   ]
  },
  {
   "cell_type": "code",
   "execution_count": 1,
   "metadata": {},
   "outputs": [],
   "source": [
    "def make_withdraw(balance):\n",
    "    \"\"\"docstring\n",
    "    \"\"\"\n",
    "    def withdraw(amount):\n",
    "        \"\"\"docstring\n",
    "        \"\"\"\n",
    "        nonlocal balance\n",
    "        if balance < amount:\n",
    "            return 'Insufficient Balance!'\n",
    "        else:\n",
    "            balance = balance - amount\n",
    "            return balance\n",
    "    return withdraw"
   ]
  },
  {
   "cell_type": "code",
   "execution_count": 2,
   "metadata": {},
   "outputs": [],
   "source": [
    "withdraw = make_withdraw(100)"
   ]
  },
  {
   "cell_type": "code",
   "execution_count": 4,
   "metadata": {},
   "outputs": [
    {
     "data": {
      "text/plain": [
       "90"
      ]
     },
     "execution_count": 4,
     "metadata": {},
     "output_type": "execute_result"
    }
   ],
   "source": [
    "withdraw(10)"
   ]
  },
  {
   "cell_type": "code",
   "execution_count": 5,
   "metadata": {},
   "outputs": [
    {
     "data": {
      "text/plain": [
       "65"
      ]
     },
     "execution_count": 5,
     "metadata": {},
     "output_type": "execute_result"
    }
   ],
   "source": [
    "withdraw(25)"
   ]
  },
  {
   "cell_type": "code",
   "execution_count": 6,
   "metadata": {},
   "outputs": [
    {
     "data": {
      "text/plain": [
       "'Insufficient Balance!'"
      ]
     },
     "execution_count": 6,
     "metadata": {},
     "output_type": "execute_result"
    }
   ],
   "source": [
    "withdraw(88888)"
   ]
  },
  {
   "cell_type": "markdown",
   "metadata": {},
   "source": [
    "## Non-local Assignment"
   ]
  },
  {
   "cell_type": "markdown",
   "metadata": {},
   "source": [
    "### Non-local Assignment Effect\n",
    "Future assignments to that name change the *pre-existing* binding in the **first non-local frame** (an enclosing frame) of the current environment in which that name is bound.\n",
    "### Python3 Language Reference\n",
    "- Names listed in a non-local assignment **must refer to a pre-exsisting binding in an enclosing frame.**\n",
    "- Names listed in a non-local assignment **must not collide with a pre-exsisting binding in the local scope (current frame).**"
   ]
  },
  {
   "cell_type": "markdown",
   "metadata": {},
   "source": [
    "### Meanings of Assignments\n",
    "\n",
    "<img src='figs/assignments.png' width='800'>"
   ]
  },
  {
   "cell_type": "markdown",
   "metadata": {},
   "source": [
    "### Python Particulars\n",
    "\n",
    "Python pre-computes which frame contains each name before executing the body of a function. <br>\n",
    "Within the body of a function, all instances of a name must refer to the same frame. (?????) - which means **you are not allowed to have the same names within the same function body actually refer to different frames.**"
   ]
  },
  {
   "cell_type": "markdown",
   "metadata": {},
   "source": [
    "### Mutable Values and Persistent Local State\n",
    "\n",
    "Mutable values can be changed without a non-local assignment."
   ]
  },
  {
   "cell_type": "code",
   "execution_count": 7,
   "metadata": {},
   "outputs": [],
   "source": [
    "def make_withdraw_list(balance):\n",
    "    \"\"\"docstring.\n",
    "    \"\"\"\n",
    "    b = [balance]    # with a mutable value\n",
    "    def withdraw(amount):\n",
    "        \"\"\"docstring.\n",
    "        \"\"\"\n",
    "        if b[0] < amount:\n",
    "            return 'Insufficient balance!'\n",
    "        else:\n",
    "            b[0] = b[0] - amount    # Element assignment changes a list\n",
    "            return b[0]\n",
    "    return withdraw"
   ]
  },
  {
   "cell_type": "markdown",
   "metadata": {},
   "source": [
    "Note `b` is defined outside of `withdraw` def, therefore all calls to `withdraw` function can refer to the same `b`, and that `b` can change because it is a list."
   ]
  },
  {
   "cell_type": "code",
   "execution_count": 8,
   "metadata": {},
   "outputs": [],
   "source": [
    "withdraw1 = make_withdraw_list(100)"
   ]
  },
  {
   "cell_type": "code",
   "execution_count": 9,
   "metadata": {},
   "outputs": [
    {
     "data": {
      "text/plain": [
       "90"
      ]
     },
     "execution_count": 9,
     "metadata": {},
     "output_type": "execute_result"
    }
   ],
   "source": [
    "withdraw1(10)"
   ]
  },
  {
   "cell_type": "code",
   "execution_count": 10,
   "metadata": {},
   "outputs": [
    {
     "data": {
      "text/plain": [
       "65"
      ]
     },
     "execution_count": 10,
     "metadata": {},
     "output_type": "execute_result"
    }
   ],
   "source": [
    "withdraw1(25)"
   ]
  },
  {
   "cell_type": "code",
   "execution_count": 11,
   "metadata": {},
   "outputs": [
    {
     "data": {
      "text/plain": [
       "'Insufficient balance!'"
      ]
     },
     "execution_count": 11,
     "metadata": {},
     "output_type": "execute_result"
    }
   ],
   "source": [
    "withdraw1(66666)"
   ]
  },
  {
   "cell_type": "markdown",
   "metadata": {},
   "source": [
    "## Multiple Mutation Functions\n",
    "### Referential Transparency\n",
    "\n",
    "In the following example, substitude `mul(4,6)` with `24` will not change the return value of the function call -- this is called **referential transparency**."
   ]
  },
  {
   "cell_type": "code",
   "execution_count": 3,
   "metadata": {},
   "outputs": [],
   "source": [
    "from operator import add, mul"
   ]
  },
  {
   "cell_type": "code",
   "execution_count": 4,
   "metadata": {},
   "outputs": [
    {
     "data": {
      "text/plain": [
       "208"
      ]
     },
     "execution_count": 4,
     "metadata": {},
     "output_type": "execute_result"
    }
   ],
   "source": [
    "mul( add(2, mul(4, 6)), add(3,5) )"
   ]
  },
  {
   "cell_type": "code",
   "execution_count": 5,
   "metadata": {},
   "outputs": [
    {
     "data": {
      "text/plain": [
       "208"
      ]
     },
     "execution_count": 5,
     "metadata": {},
     "output_type": "execute_result"
    }
   ],
   "source": [
    "mul( add(2, 24), add(3,5) )"
   ]
  },
  {
   "cell_type": "code",
   "execution_count": 6,
   "metadata": {},
   "outputs": [
    {
     "data": {
      "text/plain": [
       "208"
      ]
     },
     "execution_count": 6,
     "metadata": {},
     "output_type": "execute_result"
    }
   ],
   "source": [
    "mul( 26, 8 )"
   ]
  },
  {
   "cell_type": "markdown",
   "metadata": {},
   "source": [
    "### Referential Transparency Lost\n",
    "\n",
    "**Mutation is the enemy of referential transparency**. In mutation function, **referential transparency is lost**. Mutation operations violate the condition of referential transparency because they do more than just return a value: <font color='red'>they also change the environment</font>."
   ]
  },
  {
   "cell_type": "code",
   "execution_count": 1,
   "metadata": {},
   "outputs": [],
   "source": [
    "def f(x):\n",
    "    \"\"\"Another example for mutation function.\n",
    "    \"\"\"\n",
    "    x = 4\n",
    "    def g(y):\n",
    "        def h(z):\n",
    "            nonlocal x\n",
    "            x = x + 1\n",
    "            return x + y + z\n",
    "        return h\n",
    "    return g"
   ]
  },
  {
   "cell_type": "code",
   "execution_count": null,
   "metadata": {},
   "outputs": [],
   "source": [
    "a = f(1)\n",
    "b = a(2)\n",
    "total_1 = b(3) + b(4)\n",
    "total_1"
   ]
  },
  {
   "cell_type": "markdown",
   "metadata": {},
   "source": [
    "We know that here `b(3)`=10 and `b(4)`=12 after calling `b(3)`. <br>\n",
    "However, if we substitude `b(3)` with 10, we will get a different answer.<br>"
   ]
  },
  {
   "cell_type": "code",
   "execution_count": 2,
   "metadata": {},
   "outputs": [
    {
     "data": {
      "text/plain": [
       "22"
      ]
     },
     "execution_count": 2,
     "metadata": {},
     "output_type": "execute_result"
    }
   ],
   "source": [
    "total_2 = 10 + b(4)\n",
    "total"
   ]
  },
  {
   "cell_type": "markdown",
   "metadata": {},
   "source": [
    "## Environment Diagrams\n",
    "### Go Bears!"
   ]
  },
  {
   "cell_type": "code",
   "execution_count": 9,
   "metadata": {},
   "outputs": [],
   "source": [
    "def oski(bear):\n",
    "    \"\"\"An example for illustrating environment diagrams of mutation function.\n",
    "    \"\"\"\n",
    "    def cal(berk):\n",
    "        nonlocal bear\n",
    "        if bear(berk) == 0:\n",
    "            return [berk+1, berk-1]\n",
    "        bear = lambda ley: berk-ley\n",
    "        return [berk, cal(berk)]\n",
    "    return cal(2)"
   ]
  },
  {
   "cell_type": "code",
   "execution_count": 10,
   "metadata": {},
   "outputs": [
    {
     "data": {
      "text/plain": [
       "[2, [3, 1]]"
      ]
     },
     "execution_count": 10,
     "metadata": {},
     "output_type": "execute_result"
    }
   ],
   "source": [
    "oski(abs)"
   ]
  },
  {
   "cell_type": "markdown",
   "metadata": {},
   "source": [
    "<img src='figs/gobears.png' width='800'>"
   ]
  }
 ],
 "metadata": {
  "kernelspec": {
   "display_name": "Python 3",
   "language": "python",
   "name": "python3"
  },
  "language_info": {
   "codemirror_mode": {
    "name": "ipython",
    "version": 3
   },
   "file_extension": ".py",
   "mimetype": "text/x-python",
   "name": "python",
   "nbconvert_exporter": "python",
   "pygments_lexer": "ipython3",
   "version": "3.7.0"
  }
 },
 "nbformat": 4,
 "nbformat_minor": 2
}
