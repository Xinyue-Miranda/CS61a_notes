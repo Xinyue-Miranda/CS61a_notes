{
 "cells": [
  {
   "cell_type": "markdown",
   "metadata": {},
   "source": [
    "# Lecture 9 Function Examples\n",
    "## 9-1 Fuctional Abstraction\n",
    "\n",
    "Some tips on how to name variables/functions/..."
   ]
  },
  {
   "cell_type": "markdown",
   "metadata": {},
   "source": [
    "## 9-2 Test-driven Development\n",
    "- Write the test of a function before you write the function.\n",
    "- Develop incrementally and test each piece before moving on.\n",
    "- Run your code interactively."
   ]
  },
  {
   "cell_type": "code",
   "execution_count": 1,
   "metadata": {},
   "outputs": [],
   "source": [
    "def gcd(m,n):\n",
    "    \"\"\"Returns the largest k that devides both m and n.\n",
    "    k,m,n are all positive integers.\n",
    "    \n",
    "    >>> gcd(12, 8)\n",
    "    4\n",
    "    >>> gcd(16, 8)\n",
    "    8\n",
    "    >>> gcd(2, 8)\n",
    "    2\n",
    "    >>> gcd(5,5)\n",
    "    5\n",
    "    \"\"\"\n",
    "    if n % m == 0:\n",
    "        return m\n",
    "    elif m < n:\n",
    "        return gcd(n, m)\n",
    "    else:\n",
    "        return gcd(m-n, m) # Euclidian Algorithm   "
   ]
  },
  {
   "cell_type": "code",
   "execution_count": 2,
   "metadata": {},
   "outputs": [
    {
     "data": {
      "text/plain": [
       "5"
      ]
     },
     "execution_count": 2,
     "metadata": {},
     "output_type": "execute_result"
    }
   ],
   "source": [
    "gcd(5,5)"
   ]
  },
  {
   "cell_type": "code",
   "execution_count": 3,
   "metadata": {},
   "outputs": [
    {
     "data": {
      "text/plain": [
       "4"
      ]
     },
     "execution_count": 3,
     "metadata": {},
     "output_type": "execute_result"
    }
   ],
   "source": [
    "gcd(12, 16)"
   ]
  },
  {
   "cell_type": "code",
   "execution_count": 4,
   "metadata": {},
   "outputs": [
    {
     "data": {
      "text/plain": [
       "4"
      ]
     },
     "execution_count": 4,
     "metadata": {},
     "output_type": "execute_result"
    }
   ],
   "source": [
    "gcd(12, 8)"
   ]
  },
  {
   "cell_type": "markdown",
   "metadata": {},
   "source": [
    "## 9-3 Function Currying\n",
    "\n",
    "**Currying:** Transforming a multi-argument function to a single-argument, higher-order function."
   ]
  },
  {
   "cell_type": "code",
   "execution_count": 5,
   "metadata": {},
   "outputs": [],
   "source": [
    "def curry2(f):\n",
    "    def g(x):\n",
    "        def h(y):\n",
    "            return f(x,y)\n",
    "        return h\n",
    "    return g"
   ]
  },
  {
   "cell_type": "code",
   "execution_count": 6,
   "metadata": {},
   "outputs": [
    {
     "data": {
      "text/plain": [
       "5"
      ]
     },
     "execution_count": 6,
     "metadata": {},
     "output_type": "execute_result"
    }
   ],
   "source": [
    "from operator import add\n",
    "add(2, 3)"
   ]
  },
  {
   "cell_type": "code",
   "execution_count": 7,
   "metadata": {},
   "outputs": [
    {
     "data": {
      "text/plain": [
       "5"
      ]
     },
     "execution_count": 7,
     "metadata": {},
     "output_type": "execute_result"
    }
   ],
   "source": [
    "m = curry2(add)\n",
    "add_three = m(3)\n",
    "add_three(2)"
   ]
  },
  {
   "cell_type": "code",
   "execution_count": 8,
   "metadata": {},
   "outputs": [],
   "source": [
    "curry2 = lambda f: lambda x: lambda y: f(x,y)"
   ]
  },
  {
   "cell_type": "code",
   "execution_count": 9,
   "metadata": {},
   "outputs": [
    {
     "data": {
      "text/plain": [
       "5"
      ]
     },
     "execution_count": 9,
     "metadata": {},
     "output_type": "execute_result"
    }
   ],
   "source": [
    "curry2(add)(3)(2)"
   ]
  },
  {
   "cell_type": "markdown",
   "metadata": {},
   "source": [
    "## 9-4 Function Decorators"
   ]
  },
  {
   "cell_type": "code",
   "execution_count": 10,
   "metadata": {},
   "outputs": [],
   "source": [
    "def trace1(fn):\n",
    "    \"\"\"Returns a version of fn that first prints before it is called.\n",
    "    \n",
    "    fn - a function of 1 argument\n",
    "    \"\"\"\n",
    "    def traced(x):\n",
    "        print('Calling', fn, 'on argument', x)\n",
    "        return fn(x)\n",
    "    return traced\n",
    "\n",
    "@trace1\n",
    "def square(x):\n",
    "    return x*x\n",
    "\n",
    "@trace1\n",
    "def sum_squares_up_to(n):\n",
    "    k = 1\n",
    "    total = 0\n",
    "    while k <= n:\n",
    "        total, k = total + square(k), k+1\n",
    "    return total"
   ]
  },
  {
   "cell_type": "code",
   "execution_count": 11,
   "metadata": {},
   "outputs": [
    {
     "name": "stdout",
     "output_type": "stream",
     "text": [
      "Calling <function square at 0x000001723E2642F0> on argument 12\n"
     ]
    },
    {
     "data": {
      "text/plain": [
       "144"
      ]
     },
     "execution_count": 11,
     "metadata": {},
     "output_type": "execute_result"
    }
   ],
   "source": [
    "square(12)"
   ]
  },
  {
   "cell_type": "code",
   "execution_count": 20,
   "metadata": {},
   "outputs": [
    {
     "name": "stdout",
     "output_type": "stream",
     "text": [
      "Calling <function sum_squares_up_to at 0x0000020DDB6FAE18> on argument 5\n",
      "Calling <function square at 0x0000020DDB7BF0D0> on argument 1\n",
      "Calling <function square at 0x0000020DDB7BF0D0> on argument 2\n",
      "Calling <function square at 0x0000020DDB7BF0D0> on argument 3\n",
      "Calling <function square at 0x0000020DDB7BF0D0> on argument 4\n",
      "Calling <function square at 0x0000020DDB7BF0D0> on argument 5\n"
     ]
    },
    {
     "data": {
      "text/plain": [
       "55"
      ]
     },
     "execution_count": 20,
     "metadata": {},
     "output_type": "execute_result"
    }
   ],
   "source": [
    "sum_squares_up_to(5)"
   ]
  },
  {
   "cell_type": "code",
   "execution_count": 15,
   "metadata": {},
   "outputs": [],
   "source": [
    "def trace(f):\n",
    "    \"\"\"Decorator\"\"\"\n",
    "    def trace1(*args, **kwargs):\n",
    "        res = f(*args, **kwargs)\n",
    "        print('Calling', f, 'at', *args, **kwargs)\n",
    "        return res\n",
    "    return trace1"
   ]
  },
  {
   "cell_type": "code",
   "execution_count": 23,
   "metadata": {},
   "outputs": [],
   "source": [
    "@trace\n",
    "def add(x, y, z=1):\n",
    "    return x + y + z"
   ]
  },
  {
   "cell_type": "code",
   "execution_count": 24,
   "metadata": {},
   "outputs": [
    {
     "name": "stdout",
     "output_type": "stream",
     "text": [
      "Calling <function add at 0x000001723E306950> at 2 3 3\n"
     ]
    },
    {
     "data": {
      "text/plain": [
       "8"
      ]
     },
     "execution_count": 24,
     "metadata": {},
     "output_type": "execute_result"
    }
   ],
   "source": [
    "add(2,3,3)"
   ]
  },
  {
   "cell_type": "code",
   "execution_count": 20,
   "metadata": {},
   "outputs": [],
   "source": [
    "def add1(x,y, z=1):\n",
    "    return x + y + z\n",
    "another_add = trace(add1)"
   ]
  },
  {
   "cell_type": "code",
   "execution_count": 22,
   "metadata": {},
   "outputs": [
    {
     "name": "stdout",
     "output_type": "stream",
     "text": [
      "Calling <function add1 at 0x000001723E306840> at 2 3 3\n"
     ]
    },
    {
     "data": {
      "text/plain": [
       "8"
      ]
     },
     "execution_count": 22,
     "metadata": {},
     "output_type": "execute_result"
    }
   ],
   "source": [
    "another_add(2,3,3)"
   ]
  },
  {
   "cell_type": "code",
   "execution_count": null,
   "metadata": {},
   "outputs": [],
   "source": []
  }
 ],
 "metadata": {
  "kernelspec": {
   "display_name": "Python 3",
   "language": "python",
   "name": "python3"
  },
  "language_info": {
   "codemirror_mode": {
    "name": "ipython",
    "version": 3
   },
   "file_extension": ".py",
   "mimetype": "text/x-python",
   "name": "python",
   "nbconvert_exporter": "python",
   "pygments_lexer": "ipython3",
   "version": "3.7.0"
  }
 },
 "nbformat": 4,
 "nbformat_minor": 2
}
